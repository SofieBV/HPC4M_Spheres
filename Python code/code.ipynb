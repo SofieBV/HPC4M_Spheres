{
 "cells": [
  {
   "cell_type": "code",
   "execution_count": 2,
   "metadata": {},
   "outputs": [],
   "source": [
    "import numpy as np\n",
    "import heapq"
   ]
  },
  {
   "cell_type": "code",
   "execution_count": 38,
   "metadata": {},
   "outputs": [],
   "source": [
    "class Sphere():\n",
    "    def __init__(self, n, pos, vel, rad, mass):\n",
    "        self.n = n\n",
    "        self.pos = pos\n",
    "        self.vel = vel\n",
    "        self.rad = rad\n",
    "        self.mass = mass\n",
    "\n",
    "    def update(self, new_pos, new_vel):\n",
    "        self.pos = new_pos\n",
    "        self.vel = new_vel\n",
    "\n",
    "def initial_state(nr, positions, velocities, rad, mass):\n",
    "    IS = []\n",
    "    for n in range(nr):\n",
    "        IS.append(Sphere(n,positions[n], velocities[n], rad[n], mass[n]))\n",
    "    return IS\n",
    "\n",
    "def check_collision(i,j):\n",
    "    r = i.pos - j.pos\n",
    "    v = i.vel - j.vel\n",
    "    rnorm = np.linalg.norm(r)\n",
    "    rnorm2 = rnorm*rnorm\n",
    "    rv = np.dot(r,v)\n",
    "    rv2 = rv*rv\n",
    "    vnorm2 = np.linalg.norm(v)*np.linalg.norm(v)\n",
    "    s = abs(i.rad + j.rad)\n",
    "    s2 = s*s\n",
    "    if s < rnorm: #condition 1, eq5\n",
    "        if rv < 0: # condition 2, eq6\n",
    "            if rnorm2-rv2/vnorm2 < s2: #condition 3, eq7\n",
    "                dt = (rnorm2 - s2) / (-rv + np.sqrt(rv2 - (rnorm2-s2)*vnorm2 ))\n",
    "                if dt > 0:\n",
    "                    return dt\n",
    "    return None\n",
    "\n",
    "def wall_collisions(i):\n",
    "    return \n",
    "\n",
    "def create_heap(IS):\n",
    "    heap_list = []\n",
    "    for i in IS:\n",
    "        for jn in range(i.n+1,len(IS)):\n",
    "            j = IS[jn]\n",
    "            dt = check_collision(i,j)\n",
    "            if dt != None:\n",
    "                heap_list.append((dt,0,i,j))\n",
    "    heapq.heapify(heap_list)\n",
    "    return heap_list\n"
   ]
  },
  {
   "cell_type": "code",
   "execution_count": 41,
   "metadata": {},
   "outputs": [
    {
     "name": "stdout",
     "output_type": "stream",
     "text": [
      "[(0.6666666666666665, 0, <__main__.Sphere object at 0x7f610aab4880>, <__main__.Sphere object at 0x7f610aab4e20>), (0.7999999999999998, 0, <__main__.Sphere object at 0x7f610aab4940>, <__main__.Sphere object at 0x7f610aab45e0>)]\n",
      "[(0.5, 0, 1), (0.7999999999999998, 0, <__main__.Sphere object at 0x7f610aab4940>, <__main__.Sphere object at 0x7f610aab45e0>), (0.6666666666666665, 0, <__main__.Sphere object at 0x7f610aab4880>, <__main__.Sphere object at 0x7f610aab4e20>)]\n",
      "[(0.6666666666666665, 0, <__main__.Sphere object at 0x7f610aab4880>, <__main__.Sphere object at 0x7f610aab4e20>), (0.7999999999999998, 0, <__main__.Sphere object at 0x7f610aab4940>, <__main__.Sphere object at 0x7f610aab45e0>)]\n"
     ]
    }
   ],
   "source": [
    "IS = initial_state(4, [np.array([0,0]), np.array([0,1]), np.array([1,0]), np.array([1,1])], [np.array([0,1]), np.array([0,0]), np.array([0,1.2]), np.array([0,0])], 0.1*np.ones(4),0.1*np.ones(4))\n",
    "heap = create_heap(IS)\n",
    "print(heap)\n",
    "heapq.heappush(heap, (0.5, 0, 1))\n",
    "print(heap)\n",
    "heapq.heappop(heap)\n",
    "print(heap)"
   ]
  },
  {
   "cell_type": "code",
   "execution_count": null,
   "metadata": {},
   "outputs": [],
   "source": []
  }
 ],
 "metadata": {
  "kernelspec": {
   "display_name": "Python 3.9.7 ('gt')",
   "language": "python",
   "name": "python3"
  },
  "language_info": {
   "codemirror_mode": {
    "name": "ipython",
    "version": 3
   },
   "file_extension": ".py",
   "mimetype": "text/x-python",
   "name": "python",
   "nbconvert_exporter": "python",
   "pygments_lexer": "ipython3",
   "version": "3.9.7"
  },
  "orig_nbformat": 4,
  "vscode": {
   "interpreter": {
    "hash": "43d1600eee924062ed6b15f4334cb9555930fe916114c1a6351ea85d872ef253"
   }
  }
 },
 "nbformat": 4,
 "nbformat_minor": 2
}
