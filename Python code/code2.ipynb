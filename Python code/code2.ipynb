{
 "cells": [
  {
   "cell_type": "code",
   "execution_count": 46,
   "metadata": {},
   "outputs": [],
   "source": [
    "import numpy as np\n",
    "import heapq"
   ]
  },
  {
   "cell_type": "code",
   "execution_count": 47,
   "metadata": {},
   "outputs": [],
   "source": [
    "class Sphere():\n",
    "    def __init__(self, n, pos, vel, rad, mass):\n",
    "        self.n = n\n",
    "        self.pos = pos\n",
    "        self.vel = vel\n",
    "        self.rad = rad\n",
    "        self.mass = mass\n",
    "\n",
    "    def update(self, new_pos, new_vel):\n",
    "        self.pos = new_pos\n",
    "        self.vel = new_vel\n",
    "\n",
    "def initial_state(nr, positions, velocities, rad, mass):\n",
    "    IS = []\n",
    "    for n in range(nr):\n",
    "        IS.append(Sphere(n,positions[n], velocities[n], rad[n], mass[n]))\n",
    "    return IS\n",
    "\n",
    "def check_collision(i,j):\n",
    "    r = i.pos - j.pos\n",
    "    v = i.vel - j.vel\n",
    "    rnorm = np.linalg.norm(r)\n",
    "    rnorm2 = rnorm*rnorm\n",
    "    rv = np.dot(r,v)\n",
    "    rv2 = rv*rv\n",
    "    vnorm2 = np.linalg.norm(v)*np.linalg.norm(v)\n",
    "    s = abs(i.rad + j.rad)\n",
    "    s2 = s*s\n",
    "    if s < rnorm: #condition 1, eq5\n",
    "        if rv < 0: # condition 2, eq6\n",
    "            if rnorm2-rv2/vnorm2 < s2: #condition 3, eq7\n",
    "                dt = (rnorm2 - s2) / (-rv + np.sqrt(rv2 - (rnorm2-s2)*vnorm2 ))\n",
    "                if dt > 0:\n",
    "                    return dt\n",
    "    return None\n",
    "\n",
    "def create_heap(IS):\n",
    "    heap_list = []\n",
    "    for i in IS:\n",
    "        for jn in range(i.n+1,len(IS)):\n",
    "            j = IS[jn]\n",
    "            dt = check_collision(i,j)\n",
    "            if dt != None:\n",
    "                heap_list.append((dt,0,i,j))\n",
    "    heapq.heapify(heap_list)\n",
    "    return heap_list\n"
   ]
  },
  {
   "cell_type": "code",
   "execution_count": 48,
   "metadata": {},
   "outputs": [
    {
     "name": "stdout",
     "output_type": "stream",
     "text": [
      "[(0.6666666666666665, 0, <__main__.Sphere object at 0x7f8e728ada90>, <__main__.Sphere object at 0x7f8e728adeb0>), (0.7999999999999998, 0, <__main__.Sphere object at 0x7f8e728ad940>, <__main__.Sphere object at 0x7f8e728adb20>)]\n",
      "[(0.5, 0, 1), (0.7999999999999998, 0, <__main__.Sphere object at 0x7f8e728ad940>, <__main__.Sphere object at 0x7f8e728adb20>), (0.6666666666666665, 0, <__main__.Sphere object at 0x7f8e728ada90>, <__main__.Sphere object at 0x7f8e728adeb0>)]\n",
      "[(0.6666666666666665, 0, <__main__.Sphere object at 0x7f8e728ada90>, <__main__.Sphere object at 0x7f8e728adeb0>), (0.7999999999999998, 0, <__main__.Sphere object at 0x7f8e728ad940>, <__main__.Sphere object at 0x7f8e728adb20>)]\n"
     ]
    }
   ],
   "source": [
    "IS = initial_state(4, [np.array([0,0]), np.array([0,1]), np.array([1,0]), np.array([1,1])], [np.array([0,1]), np.array([0,0]), np.array([0,1.2]), np.array([0,0])], 0.1*np.ones(4),0.1*np.ones(4))\n",
    "heap = create_heap(IS)\n",
    "print(heap)\n",
    "heapq.heappush(heap, (0.5, 0, 1))\n",
    "print(heap)\n",
    "heapq.heappop(heap)\n",
    "print(heap)"
   ]
  },
  {
   "cell_type": "code",
   "execution_count": 49,
   "metadata": {},
   "outputs": [],
   "source": [
    "def collision(entry):\n",
    "    # computes new positions and velocities for collison entry in heap\n",
    "    \n",
    "    # new positions\n",
    "    dt = entry[0] - entry[1] # col time - time included in heap\n",
    "    posi = entry[2].pos + entry[2].vel*dt\n",
    "    posj = entry[3].pos + entry[3].vel*dt\n",
    "    \n",
    "    # new velocities\n",
    "    reduced_mass = 2 / (1/entry[2].mass + 1/entry[3].mass) # eq. 12\n",
    "    unit_vec = (entry[2].pos - entry[3].pos) / (entry[2].rad + entry[3].rad) # eq. 13\n",
    "    mom_change = reduced_mass*np.dot(unit_vec, entry[2].vel - entry[3].vel)*unit_vec # eq. 12\n",
    "    veli = entry[2].vel - mom_change/entry[2].mass # eq. 10\n",
    "    velj = entry[3].vel + mom_change/entry[3].mass # eq. 11\n",
    "        \n",
    "    return posi, veli, posj, velj\n",
    "\n",
    "#### below is yet to be incorportated in simulation ####\n",
    "def wall_collisions(l, i):\n",
    "    # collisions with lXl square wall centered at (0,0)\n",
    "    dts = []\n",
    "    \n",
    "    # collision with left wall\n",
    "    rx = i.pos[0] + l/2\n",
    "    dt = rx/i.vel[0]\n",
    "    if dt > 0: # check atom travelling in correct direction\n",
    "        dts.append(dt)\n",
    "    else:  \n",
    "        # collision with right wall\n",
    "        rx = i.pos[0] - l/2\n",
    "        dt = rx/i.vel[0]\n",
    "        dts.append(dt)\n",
    "    \n",
    "    # collision with top wall\n",
    "    ry = i.pos[1] + l/2\n",
    "    dt = ry/i.vel[1]\n",
    "    if dt > 0: # check atom travelling in correct direction\n",
    "        dts.append(dt)\n",
    "    else:\n",
    "        # collision with bottom wall\n",
    "        ry = i.pos[1] - l/2\n",
    "        dt = ry/i.vel[1]\n",
    "        dts.append(dt)\n",
    "        \n",
    "    return dts"
   ]
  },
  {
   "cell_type": "code",
   "execution_count": 50,
   "metadata": {},
   "outputs": [
    {
     "ename": "IndexError",
     "evalue": "index out of range",
     "output_type": "error",
     "traceback": [
      "\u001b[0;31m---------------------------------------------------------------------------\u001b[0m",
      "\u001b[0;31mIndexError\u001b[0m                                Traceback (most recent call last)",
      "Cell \u001b[0;32mIn[50], line 12\u001b[0m\n\u001b[1;32m      9\u001b[0m t \u001b[38;5;241m=\u001b[39m \u001b[38;5;241m0\u001b[39m\n\u001b[1;32m     10\u001b[0m \u001b[38;5;28;01mwhile\u001b[39;00m t \u001b[38;5;241m<\u001b[39m T:\n\u001b[1;32m     11\u001b[0m     \u001b[38;5;66;03m# possible collision\u001b[39;00m\n\u001b[0;32m---> 12\u001b[0m     entry \u001b[38;5;241m=\u001b[39m \u001b[43mheapq\u001b[49m\u001b[38;5;241;43m.\u001b[39;49m\u001b[43mheappop\u001b[49m\u001b[43m(\u001b[49m\u001b[43mheap\u001b[49m\u001b[43m)\u001b[49m\n\u001b[1;32m     14\u001b[0m     \u001b[38;5;66;03m# checking if collision is valid event\u001b[39;00m\n\u001b[1;32m     15\u001b[0m     \u001b[38;5;28;01mif\u001b[39;00m entry[\u001b[38;5;241m1\u001b[39m] \u001b[38;5;241m<\u001b[39m L[entry[\u001b[38;5;241m2\u001b[39m]\u001b[38;5;241m.\u001b[39mn]:\n",
      "\u001b[0;31mIndexError\u001b[0m: index out of range"
     ]
    }
   ],
   "source": [
    "#### initialise state and run collisions up to time T ####\n",
    "#### throws up error due to lack of wall ####\n",
    "\n",
    "T = 10\n",
    "IS = initial_state(4, [np.array([0,0]), np.array([0,1]), np.array([1,0]), np.array([1,1])], [np.array([0,1]), np.array([0,0]), np.array([0,1.2]), np.array([0,0])], 0.1*np.ones(4),0.1*np.ones(4))\n",
    "L = -np.ones(len(IS)) # last collision time for each atom\n",
    "heap = create_heap(IS)\n",
    "\n",
    "t = 0\n",
    "while t < T:\n",
    "    # possible collision\n",
    "    entry = heapq.heappop(heap)\n",
    "    \n",
    "    # checking if collision is valid event\n",
    "    if entry[1] < L[entry[2].n]:\n",
    "        pass\n",
    "    elif entry[1] < L[entry[3].n]:\n",
    "        pass\n",
    "    else: # collision valid\n",
    "        \n",
    "        # updating last collision times\n",
    "        L[entry[2].n] = entry[0]\n",
    "        L[entry[3].n] = entry[0]\n",
    "        \n",
    "        # new particle pos and vel\n",
    "        posi, veli, posj, velj = collision(entry)\n",
    "        \n",
    "        # update pos and vel\n",
    "        entry[2].update(posi, veli)\n",
    "        entry[3].update(posj, velj) # this will change all heap pos and vels\n",
    "        # may not matter as they're no longer be valid?\n",
    "        \n",
    "        # update heap\n",
    "        for i in IS:\n",
    "            # collisions with first sphere\n",
    "            dt = check_collision(i, entry[2])\n",
    "            if dt != None:\n",
    "                heapq.heappush(heap, (dt + entry[0],entry[0],i, entry[2]))\n",
    "            # collisions with second\n",
    "            dt = check_collision(i, entry[3])\n",
    "            if dt != None:\n",
    "                heapq.heappush(heap, (dt + entry[0],entry[0],i, entry[3]))\n",
    "                \n",
    "        # update time counter\n",
    "        t = entry[0]"
   ]
  },
  {
   "cell_type": "code",
   "execution_count": null,
   "metadata": {},
   "outputs": [],
   "source": []
  }
 ],
 "metadata": {
  "kernelspec": {
   "display_name": "Python 3 (ipykernel)",
   "language": "python",
   "name": "python3"
  },
  "language_info": {
   "codemirror_mode": {
    "name": "ipython",
    "version": 3
   },
   "file_extension": ".py",
   "mimetype": "text/x-python",
   "name": "python",
   "nbconvert_exporter": "python",
   "pygments_lexer": "ipython3",
   "version": "3.8.16"
  },
  "vscode": {
   "interpreter": {
    "hash": "43d1600eee924062ed6b15f4334cb9555930fe916114c1a6351ea85d872ef253"
   }
  }
 },
 "nbformat": 4,
 "nbformat_minor": 2
}
