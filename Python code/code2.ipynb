{
 "cells": [
  {
   "cell_type": "code",
   "execution_count": 2,
   "metadata": {},
   "outputs": [],
   "source": [
    "import numpy as np\n",
    "import heapq\n",
    "import matplotlib.pyplot as plt"
   ]
  },
  {
   "cell_type": "code",
   "execution_count": 3,
   "metadata": {},
   "outputs": [],
   "source": [
    "class Sphere():\n",
    "    def __init__(self, n, pos, vel, rad, mass):\n",
    "        self.n = n\n",
    "        self.pos = pos\n",
    "        self.vel = vel\n",
    "        self.rad = rad\n",
    "        self.mass = mass\n",
    "\n",
    "    def update(self, new_pos, new_vel):\n",
    "        self.pos = new_pos\n",
    "        self.vel = new_vel\n",
    "\n",
    "def initial_state(nr, positions, velocities, rad, mass):\n",
    "    IS = []\n",
    "    for n in range(nr):\n",
    "        IS.append(Sphere(n,positions[n], velocities[n], rad[n], mass[n]))\n",
    "    return IS\n",
    "\n",
    "def check_collision(i,j):\n",
    "    r = i.pos - j.pos\n",
    "    v = i.vel - j.vel\n",
    "    rnorm = np.linalg.norm(r)\n",
    "    rnorm2 = rnorm*rnorm\n",
    "    rv = np.dot(r,v)\n",
    "    rv2 = rv*rv\n",
    "    vnorm2 = np.linalg.norm(v)*np.linalg.norm(v)\n",
    "    s = abs(i.rad + j.rad)\n",
    "    s2 = s*s\n",
    "    if s < rnorm: #condition 1, eq5\n",
    "        if rv < 0: # condition 2, eq6\n",
    "            if rnorm2-rv2/vnorm2 < s2: #condition 3, eq7\n",
    "                dt = (rnorm2 - s2) / (-rv + np.sqrt(rv2 - (rnorm2-s2)*vnorm2 ))\n",
    "                if dt > 0:\n",
    "                    return dt\n",
    "    return None\n",
    "\n",
    "#### below is yet to be incorportated in simulation ####\n",
    "def wall_collisions(l, i):\n",
    "    # collisions with lXl square wall centered at (0,0)\n",
    "    dts = []\n",
    "    wall = []\n",
    "\n",
    "    if i.vel[0] == 0 and i.vel[1] ==0:\n",
    "        return None, None\n",
    "    else:\n",
    "        # collision with left wall\n",
    "        if i.vel[0] < 0:\n",
    "            rx = -(i.pos[0]-i.rad + l/2)\n",
    "            dt = rx/i.vel[0]\n",
    "            dts.append(dt)\n",
    "            wall.append('left')\n",
    "        elif i.vel[0] > 0:  \n",
    "            # collision with right wall\n",
    "            rx = l/2 - (i.pos[0]+i.rad)\n",
    "            dt = rx/i.vel[0]\n",
    "            dts.append(dt)\n",
    "            wall.append('right')\n",
    "        \n",
    "        # collision with top wall\n",
    "        if i.vel[1] > 0:\n",
    "            ry = l/2 - (i.pos[1]+i.rad)\n",
    "            dt = ry/i.vel[1]\n",
    "            dts.append(dt)\n",
    "            wall.append('top')\n",
    "        elif i.vel[1] < 0:\n",
    "            # collision with bottom wall\n",
    "            ry = -(i.pos[1]-i.rad + l/2)\n",
    "            dt = ry/i.vel[1]\n",
    "            dts.append(dt)\n",
    "            wall.append('bottom')\n",
    "        \n",
    "        w = wall[np.argmin(dts)]\n",
    "        dtw = min(dts)\n",
    "\n",
    "        return dtw, w\n",
    "\n",
    "def create_heap(IS):\n",
    "    heap_list = []\n",
    "    for i in IS:\n",
    "        dtw, w = wall_collisions(10,i)\n",
    "        if dtw != None:\n",
    "            heap_list.append((dtw,0,i.n,i,w))\n",
    "        for jn in range(i.n+1,len(IS)):\n",
    "            j = IS[jn]\n",
    "            dt = check_collision(i,j)\n",
    "            if dt != None:\n",
    "                heap_list.append((dt,0,i.n,i,j))\n",
    "    \n",
    "    heapq.heapify(heap_list)\n",
    "    return heap_list\n"
   ]
  },
  {
   "cell_type": "code",
   "execution_count": 4,
   "metadata": {},
   "outputs": [
    {
     "name": "stdout",
     "output_type": "stream",
     "text": [
      "[(4.9, 0, 0, <__main__.Sphere object at 0x7fecb6944880>, 'left'), (4.9, 0, 2, <__main__.Sphere object at 0x7fecb6944970>, 'bottom')]\n",
      "[(0.5, 0, 1), (4.9, 0, 2, <__main__.Sphere object at 0x7fecb6944970>, 'bottom'), (4.9, 0, 0, <__main__.Sphere object at 0x7fecb6944880>, 'left')]\n",
      "[(4.9, 0, 0, <__main__.Sphere object at 0x7fecb6944880>, 'left'), (4.9, 0, 2, <__main__.Sphere object at 0x7fecb6944970>, 'bottom')]\n"
     ]
    }
   ],
   "source": [
    "IS = initial_state(4, [np.array([0,0]), np.array([0,1]), np.array([1,0]), np.array([1,1])], [np.array([-1,0]), np.array([0,0]), np.array([0,-1]), np.array([0,0])], 0.1*np.ones(4),0.1*np.ones(4))\n",
    "heap = create_heap(IS)\n",
    "print(heap)\n",
    "heapq.heappush(heap, (0.5, 0, 1))\n",
    "print(heap)\n",
    "heapq.heappop(heap)\n",
    "print(heap)"
   ]
  },
  {
   "cell_type": "code",
   "execution_count": 5,
   "metadata": {},
   "outputs": [],
   "source": [
    "def collision(entry):\n",
    "    # computes new positions and velocities for collison entry in heap\n",
    "    dt = entry[0] - entry[1] # col time - time included in heap\n",
    "    \n",
    "    if not isinstance(entry[4], str):\n",
    "        # new positions\n",
    "        posi = entry[3].pos + entry[3].vel*dt\n",
    "        posj = entry[4].pos + entry[4].vel*dt\n",
    "        \n",
    "        # new velocities\n",
    "        reduced_mass = 2 / (1/entry[3].mass + 1/entry[4].mass) # eq. 12\n",
    "        unit_vec = (entry[3].pos - entry[4].pos) / (entry[3].rad + entry[4].rad) # eq. 13\n",
    "        mom_change = reduced_mass*np.dot(unit_vec, entry[3].vel - entry[4].vel)*unit_vec # eq. 12\n",
    "        veli = entry[3].vel - mom_change/entry[3].mass # eq. 10\n",
    "        velj = entry[4].vel + mom_change/entry[4].mass # eq. 11\n",
    "\n",
    "        return posi, veli, posj, velj\n",
    "    else:\n",
    "        posi = entry[3].pos + entry[3].vel*dt\n",
    "        if entry[4] == 'bottom' or entry[4] == 'top':\n",
    "            veli = np.array([entry[3].vel[0],-entry[3].vel[1]])\n",
    "        else:\n",
    "            veli = np.array([-entry[3].vel[0],entry[3].vel[1]])\n",
    "        \n",
    "        return posi, veli, None, None\n",
    "\n"
   ]
  },
  {
   "cell_type": "code",
   "execution_count": 6,
   "metadata": {},
   "outputs": [
    {
     "name": "stdout",
     "output_type": "stream",
     "text": [
      "0\n",
      "0.6666666666666665\n",
      "0.7966666666666665\n",
      "0.7999999999999998\n",
      "0.8645833333333331\n",
      "0.9559999999999998\n"
     ]
    }
   ],
   "source": [
    "#### initialise state and run collisions up to time T ####\n",
    "#### throws up error due to lack of wall ####\n",
    "\n",
    "T = 1\n",
    "IS = initial_state(4, [np.array([0,0]), np.array([0,1]), np.array([1,0]), np.array([1,1])], [np.array([0,1]), np.array([0,0]), np.array([0,1.2]), np.array([0,0])], 0.1*np.ones(4),0.1*np.ones(4))\n",
    "L = -np.ones(len(IS)) # last collision time for each atom\n",
    "simulation = []\n",
    "heap = create_heap(IS)\n",
    "\n",
    "t = 0\n",
    "while t < T:\n",
    "    print(t)\n",
    "    # possible collision\n",
    "    entry = heapq.heappop(heap)\n",
    "    \n",
    "    if not isinstance(entry[4],str):\n",
    "        # checking if collision is valid event\n",
    "        if entry[1] < L[entry[3].n]:\n",
    "            pass\n",
    "        elif entry[1] < L[entry[4].n]:\n",
    "            pass\n",
    "        else: # collision valid\n",
    "            \n",
    "            # updating last collision times\n",
    "            L[entry[3].n] = entry[0]\n",
    "            L[entry[4].n] = entry[0]\n",
    "            \n",
    "            # new particle pos and vel\n",
    "            posi, veli, posj, velj = collision(entry)\n",
    "            \n",
    "            #save previous pos and vel\n",
    "            simulation.append([entry[0], entry[3].n, entry[4].n, entry[3].pos, entry[4].pos, entry[3].vel, entry[4].vel])\n",
    "\n",
    "            # update pos and vel\n",
    "            entry[3].update(posi, veli)\n",
    "            entry[4].update(posj, velj) # this will change all heap pos and vels\n",
    "            # may not matter as they're no longer be valid?\n",
    "            \n",
    "            # update heap\n",
    "            for i in IS:\n",
    "                # collisions with first sphere\n",
    "                dt = check_collision(i, entry[3])\n",
    "                if dt != None:\n",
    "                    heapq.heappush(heap, (dt + entry[0],entry[0],i.n,i, entry[3]))\n",
    "                # collisions with second\n",
    "                dt = check_collision(i, entry[4])\n",
    "                if dt != None:\n",
    "                    heapq.heappush(heap, (dt + entry[0],entry[0],i.n,i, entry[4]))\n",
    "            \n",
    "            #update heap with wall collissions\n",
    "            dtw, w = wall_collisions(10,entry[3])\n",
    "            if dtw != None:\n",
    "                heapq.heappush(heap,(dtw + entry[0],entry[0],entry[3].n,entry[3],w))\n",
    "            dtw, w = wall_collisions(10,entry[4])\n",
    "            if dtw != None:\n",
    "                heapq.heappush(heap,(dtw + entry[0],entry[0],entry[4].n,entry[4],w))\n",
    "                    \n",
    "            # update time counter\n",
    "            t = entry[0]\n",
    "    else:\n",
    "        # checking if collision is valid event\n",
    "        if entry[1] < L[entry[3].n]:\n",
    "            pass\n",
    "        else: # collision valid\n",
    "            \n",
    "            # updating last collision times\n",
    "            L[entry[3].n] = entry[0]\n",
    "            \n",
    "            # new particle pos and vel\n",
    "            posi, veli, posj, velj = collision(entry)\n",
    "            \n",
    "            #save previous pos and vel\n",
    "            simulation.append([entry[0], entry[3].n, entry[3].pos, entry[3].vel, entry[4]])\n",
    "\n",
    "            # update pos and vel\n",
    "            entry[3].update(posi, veli)\n",
    "            \n",
    "            # update heap\n",
    "            for i in IS:\n",
    "                # collisions with first sphere\n",
    "                dt = check_collision(i, entry[3])\n",
    "                if dt != None:\n",
    "                    heapq.heappush(heap, (dt + entry[0],entry[0],i.n, i, entry[3]))\n",
    "            \n",
    "            #update heap with wall collissions\n",
    "            dtw, w = wall_collisions(10,entry[3])\n",
    "            if dtw != None:\n",
    "                heapq.heappush(heap,(dtw + entry[0],entry[0],entry[3].n,entry[3],w))\n",
    "                \n",
    "            # update time counter\n",
    "            t = entry[0]"
   ]
  },
  {
   "cell_type": "code",
   "execution_count": 7,
   "metadata": {},
   "outputs": [
    {
     "name": "stdout",
     "output_type": "stream",
     "text": [
      "[[0.6666666666666665, 2, 3, array([1, 0]), array([1, 1]), array([0. , 1.2]), array([0, 0])], [0.7966666666666665, 3, array([1., 1.]), array([ 0., 30.]), 'top'], [0.7999999999999998, 0, 1, array([0, 0]), array([0, 1]), array([0, 1]), array([0, 0])], [0.8645833333333331, 2, array([1. , 0.8]), array([  0. , -28.8]), 'bottom'], [0.9559999999999998, 1, array([0., 1.]), array([ 0., 25.]), 'top'], [1.0278486394557822, 3, 2, array([1. , 4.9]), array([ 1. , -4.9]), array([  0., -30.]), array([ 0. , 28.8])]]\n"
     ]
    }
   ],
   "source": [
    "print(simulation)"
   ]
  },
  {
   "cell_type": "code",
   "execution_count": 71,
   "metadata": {},
   "outputs": [
    {
     "data": {
      "image/png": "[encoded data removed]",
      "text/plain": [
       "<Figure size 432x288 with 1 Axes>"
      ]
     },
     "metadata": {
      "needs_background": "light"
     },
     "output_type": "display_data"
    },
    {
     "data": {
      "image/png": "[encoded data removed]",
      "text/plain": [
       "<Figure size 432x288 with 1 Axes>"
      ]
     },
     "metadata": {
      "needs_background": "light"
     },
     "output_type": "display_data"
    },
    {
     "data": {
      "image/png": "[encoded data removed]",
      "text/plain": [
       "<Figure size 432x288 with 1 Axes>"
      ]
     },
     "metadata": {
      "needs_background": "light"
     },
     "output_type": "display_data"
    },
    {
     "data": {
      "image/png": "[encoded data removed]",
      "text/plain": [
       "<Figure size 432x288 with 1 Axes>"
      ]
     },
     "metadata": {
      "needs_background": "light"
     },
     "output_type": "display_data"
    },
    {
     "data": {
      "image/png": "[encoded data removed]",
      "text/plain": [
       "<Figure size 432x288 with 1 Axes>"
      ]
     },
     "metadata": {
      "needs_background": "light"
     },
     "output_type": "display_data"
    }
   ],
   "source": [
    "inputs_nr = 4\n",
    "inputs_pos = [np.array([0.,0.]), np.array([0.,1.]), np.array([1.,0.]), np.array([1.,1.])]\n",
    "inputs_vel =  [np.array([0,1]), np.array([0,0]), np.array([0,1.2]), np.array([0,0])]\n",
    "inputs_rad = 0.1*np.ones(4)\n",
    "inputs_mass = 0.1*np.ones(4)\n",
    "\n",
    "def simulate(inputs, simulation, T):\n",
    "    nr = inputs[0]\n",
    "    pos = np.array(inputs[1])\n",
    "    vel = np.array(inputs[2])\n",
    "    rad = inputs[3]\n",
    "\n",
    "    pts_rad = 1000*rad\n",
    "\n",
    "    tall = np.linspace(0,T,5)\n",
    "    dt = T/5\n",
    "    plotRealTime = True\n",
    "\n",
    "    for t in tall:\n",
    "        \n",
    "        xx = pos[:,0]\n",
    "        yy = pos[:,1]\n",
    "\n",
    "        #plt.cla()\n",
    "        fig = plt.figure()\n",
    "        plt.ylim(-2,2)\n",
    "        plt.xlim(-2,2)\n",
    "        plt.scatter(xx,yy, s = pts_rad, color='blue')\n",
    "        plt.pause(0.01)\n",
    "\n",
    "        pos += vel*dt\n",
    "\n",
    "    plt.show()\n",
    "\n",
    "simulate([inputs_nr, inputs_pos, inputs_vel, inputs_rad], simulation, 1)"
   ]
  },
  {
   "cell_type": "code",
   "execution_count": null,
   "metadata": {},
   "outputs": [],
   "source": []
  }
 ],
 "metadata": {
  "kernelspec": {
   "display_name": "Python 3 (ipykernel)",
   "language": "python",
   "name": "python3"
  },
  "language_info": {
   "codemirror_mode": {
    "name": "ipython",
    "version": 3
   },
   "file_extension": ".py",
   "mimetype": "text/x-python",
   "name": "python",
   "nbconvert_exporter": "python",
   "pygments_lexer": "ipython3",
   "version": "3.9.7"
  },
  "vscode": {
   "interpreter": {
    "hash": "43d1600eee924062ed6b15f4334cb9555930fe916114c1a6351ea85d872ef253"
   }
  }
 },
 "nbformat": 4,
 "nbformat_minor": 2
}
