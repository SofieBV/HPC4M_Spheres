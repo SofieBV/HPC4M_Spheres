{
 "cells": [
  {
   "cell_type": "code",
   "execution_count": 1,
   "metadata": {},
   "outputs": [
    {
     "name": "stdout",
     "output_type": "stream",
     "text": [
      "Hello world! this is rank  0\n",
      "Hello world! this is rank  0\n"
     ]
    }
   ],
   "source": [
    "import mpi4py.rc\n",
    "mpi4py.rc.initialize = False \n",
    "from mpi4py import MPI\n",
    "MPI.Init()\n",
    "\n",
    "### the actual program\n",
    "\n",
    "comm = MPI.COMM_WORLD   # the global communicator\n",
    "comm2 = MPI.COMM_WORLD\n",
    "\n",
    "rank = comm.Get_rank()  # get process ID withon comm\n",
    "rank2 = comm2.Get_rank()  # get process ID withon comm\n",
    "\n",
    "print(\"Hello world! this is rank \", rank)\n",
    "print(\"Hello world! this is rank \", rank2)\n",
    "\n",
    "\n",
    "\n",
    "###\n",
    "\n",
    "\n",
    "### denote end of mpi calls\n",
    "MPI.Finalize()\n",
    "###  \n"
   ]
  }
 ],
 "metadata": {
  "kernelspec": {
   "display_name": "Python 3",
   "language": "python",
   "name": "python3"
  },
  "language_info": {
   "codemirror_mode": {
    "name": "ipython",
    "version": 3
   },
   "file_extension": ".py",
   "mimetype": "text/x-python",
   "name": "python",
   "nbconvert_exporter": "python",
   "pygments_lexer": "ipython3",
   "version": "3.8.10"
  },
  "orig_nbformat": 4
 },
 "nbformat": 4,
 "nbformat_minor": 2
}
